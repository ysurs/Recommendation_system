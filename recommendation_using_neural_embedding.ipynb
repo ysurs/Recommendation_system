{
  "nbformat": 4,
  "nbformat_minor": 0,
  "metadata": {
    "colab": {
      "name": "Neural Collaborative filtering for recommendation system",
      "provenance": [],
      "machine_shape": "hm"
    },
    "kernelspec": {
      "name": "python3",
      "display_name": "Python 3"
    },
    "language_info": {
      "name": "python"
    },
    "accelerator": "GPU",
    "gpuClass": "standard"
  },
  "cells": [
    {
      "cell_type": "code",
      "execution_count": null,
      "metadata": {
        "colab": {
          "base_uri": "https://localhost:8080/"
        },
        "id": "tEIc4c8EMTh9",
        "outputId": "6eadb06d-2cb3-482d-acb5-8600791a8024"
      },
      "outputs": [
        {
          "output_type": "stream",
          "name": "stdout",
          "text": [
            "Mounted at /content/drive\n"
          ]
        }
      ],
      "source": [
        "from google.colab import drive\n",
        "drive.mount('/content/drive')"
      ]
    },
    {
      "cell_type": "code",
      "source": [
        "import pandas as pd\n",
        "import numpy as np\n",
        "import os\n",
        "import matplotlib.pyplot as plt\n",
        "import pickle\n",
        "import seaborn as sns\n",
        "from sklearn.preprocessing import LabelEncoder\n",
        "from sklearn.model_selection import train_test_split"
      ],
      "metadata": {
        "id": "mJ2UmdGDMeZa"
      },
      "execution_count": null,
      "outputs": []
    },
    {
      "cell_type": "code",
      "source": [
        "\n",
        "from keras.layers import Input, Embedding, Dot, Reshape, Dense\n",
        "from keras.models import Model"
      ],
      "metadata": {
        "id": "k9faZtcVFtgB"
      },
      "execution_count": null,
      "outputs": []
    },
    {
      "cell_type": "code",
      "source": [
        "from keras.models import load_model"
      ],
      "metadata": {
        "id": "b3DDafvMO3jC"
      },
      "execution_count": null,
      "outputs": []
    },
    {
      "cell_type": "code",
      "source": [
        "from keras.layers import Add, Activation, Lambda"
      ],
      "metadata": {
        "id": "1nnDo4aCVrnQ"
      },
      "execution_count": null,
      "outputs": []
    },
    {
      "cell_type": "code",
      "source": [
        "from tensorflow.keras.optimizers import Adam\n"
      ],
      "metadata": {
        "id": "c06udbxKWvv0"
      },
      "execution_count": null,
      "outputs": []
    },
    {
      "cell_type": "code",
      "source": [
        "merged_review_restaurants_user=pd.read_pickle('/content/drive/MyDrive/Restaurant_recommender_system/merged_user_review_restaurant')"
      ],
      "metadata": {
        "id": "7rux7gkxMonq"
      },
      "execution_count": null,
      "outputs": []
    },
    {
      "cell_type": "code",
      "source": [
        "merged_review_restaurants_user.columns"
      ],
      "metadata": {
        "colab": {
          "base_uri": "https://localhost:8080/"
        },
        "id": "vLSDqciMMt2s",
        "outputId": "c9758785-2510-4048-83b8-db48a60518c0"
      },
      "execution_count": null,
      "outputs": [
        {
          "output_type": "execute_result",
          "data": {
            "text/plain": [
              "Index(['Unnamed: 0', 'user_id', 'user_name', 'user_review_count',\n",
              "       'yelping_since', 'useful_x', 'funny_x', 'cool_x', 'friends', 'fans',\n",
              "       'average_stars', 'compliment_hot', 'compliment_more',\n",
              "       'compliment_profile', 'compliment_cute', 'compliment_list',\n",
              "       'compliment_note', 'compliment_plain', 'compliment_cool',\n",
              "       'compliment_funny', 'compliment_writer', 'compliment_photos',\n",
              "       'review_id', 'business_id', 'user_stars', 'useful_y', 'funny_y',\n",
              "       'cool_y', 'text', 'date', 'name_y', 'city', 'state', 'latitude',\n",
              "       'longitude', 'stars', 'business_review_count', 'is_open', 'attributes',\n",
              "       'categories', 'hours'],\n",
              "      dtype='object')"
            ]
          },
          "metadata": {},
          "execution_count": 4
        }
      ]
    },
    {
      "cell_type": "markdown",
      "source": [
        "*Dropped unnamed column because its not meaningful*"
      ],
      "metadata": {
        "id": "JInSEGGgNkmY"
      }
    },
    {
      "cell_type": "code",
      "source": [
        "merged_review_restaurants_user.drop(['Unnamed: 0'],axis=1,inplace=True)"
      ],
      "metadata": {
        "id": "HWDyCTMeNYEZ"
      },
      "execution_count": null,
      "outputs": []
    },
    {
      "cell_type": "code",
      "source": [
        "merged_review_restaurants_user.shape"
      ],
      "metadata": {
        "colab": {
          "base_uri": "https://localhost:8080/"
        },
        "id": "jU6l09AhNibx",
        "outputId": "b79489dc-531a-4eee-d6c8-9e8b065cf048"
      },
      "execution_count": null,
      "outputs": [
        {
          "output_type": "execute_result",
          "data": {
            "text/plain": [
              "(4724464, 40)"
            ]
          },
          "metadata": {},
          "execution_count": 6
        }
      ]
    },
    {
      "cell_type": "code",
      "source": [
        "merged_review_restaurants_user_neural=merged_review_restaurants_user.copy()"
      ],
      "metadata": {
        "id": "-XSk29Iq6LAJ"
      },
      "execution_count": null,
      "outputs": []
    },
    {
      "cell_type": "markdown",
      "source": [
        "*Using neural network based collaborative filtering technique*"
      ],
      "metadata": {
        "id": "2cd56wZ85sxh"
      }
    },
    {
      "cell_type": "markdown",
      "source": [
        "*The number of categories is large so going with label encoding technique: https://www.analyticsvidhya.com/blog/2020/03/one-hot-encoding-vs-label-encoding-using-scikit-learn/*"
      ],
      "metadata": {
        "id": "R9h6DsqS77WH"
      }
    },
    {
      "cell_type": "code",
      "source": [
        "encoder=LabelEncoder()"
      ],
      "metadata": {
        "id": "Y4qXPzz66koJ"
      },
      "execution_count": null,
      "outputs": []
    },
    {
      "cell_type": "code",
      "source": [
        "merged_review_restaurants_user_neural['user_label']=encoder.fit_transform(merged_review_restaurants_user_neural['user_id'].values)"
      ],
      "metadata": {
        "id": "lT50adO15gDw"
      },
      "execution_count": null,
      "outputs": []
    },
    {
      "cell_type": "code",
      "source": [
        "merged_review_restaurants_user_neural['business_label']=encoder.fit_transform(merged_review_restaurants_user_neural['business_id'].values)"
      ],
      "metadata": {
        "id": "Mv25vb_V66bh"
      },
      "execution_count": null,
      "outputs": []
    },
    {
      "cell_type": "code",
      "source": [
        "unique_users=merged_review_restaurants_user_neural['user_label'].nunique()"
      ],
      "metadata": {
        "id": "DJ-DcSWm7KdZ"
      },
      "execution_count": null,
      "outputs": []
    },
    {
      "cell_type": "code",
      "source": [
        "unique_restaurants=merged_review_restaurants_user_neural['business_label'].nunique()"
      ],
      "metadata": {
        "id": "2VRXCXQlAWLn"
      },
      "execution_count": null,
      "outputs": []
    },
    {
      "cell_type": "code",
      "source": [
        "unique_restaurants"
      ],
      "metadata": {
        "colab": {
          "base_uri": "https://localhost:8080/"
        },
        "id": "-PLc993zWNnp",
        "outputId": "d55b8453-a2e4-4c89-931f-2ebcf6ed20ba"
      },
      "execution_count": null,
      "outputs": [
        {
          "output_type": "execute_result",
          "data": {
            "text/plain": [
              "52268"
            ]
          },
          "metadata": {},
          "execution_count": 38
        }
      ]
    },
    {
      "cell_type": "code",
      "source": [
        "X = merged_review_restaurants_user_neural[['user_label', 'business_label']].values\n",
        "y = merged_review_restaurants_user_neural['user_stars'].values\n",
        "\n",
        "X_train_neural, X_test_neural, y_train_neural, y_test_neural = train_test_split(X, y, test_size=0.2, random_state=42)"
      ],
      "metadata": {
        "id": "6MYuhzR8AiKX"
      },
      "execution_count": null,
      "outputs": []
    },
    {
      "cell_type": "code",
      "source": [
        "\n",
        "n_factors = 50\n",
        "\n",
        "\n",
        "# Creating separate arrays for user and restaurants for keras\n",
        "X_train_array = [X_train_neural[:, 0], X_train_neural[:, 1]]\n",
        "X_test_array = [X_test_neural[:, 0], X_test_neural[:, 1]]"
      ],
      "metadata": {
        "id": "L-i4kBJhBVKb"
      },
      "execution_count": null,
      "outputs": []
    },
    {
      "cell_type": "code",
      "source": [
        "def user_restaurant_embedding_model(n_factors):\n",
        "  user_input=Input(shape=(1,))\n",
        "  restaurants_input=Input(shape=(1,))\n",
        "\n",
        "  user_embedding=Embedding(input_dim=unique_users,output_dim=n_factors)(user_input)\n",
        "\n",
        "  restaurant_embedding=Embedding(input_dim=unique_restaurants,output_dim=n_factors)(restaurants_input)\n",
        "\n",
        "\n",
        "  dot_product=Dot(normalize=True,axes=2)([user_embedding,restaurant_embedding])\n",
        "\n",
        "  merged = Reshape(target_shape = [1])(dot_product)\n",
        "\n",
        "  merged=Activation('sigmoid')(merged)\n",
        "\n",
        "  ratings_calculated=Lambda(lambda x: x*4+1)(merged)\n",
        "\n",
        "  model = Model(inputs=[user_input, restaurants_input], outputs=ratings_calculated)\n",
        "\n",
        "  opt = Adam(lr=0.001)\n",
        "  model.compile(loss='mean_squared_error', optimizer=opt)  \n",
        "    \n",
        "  return model\n"
      ],
      "metadata": {
        "id": "PTb9GOJwB12x"
      },
      "execution_count": null,
      "outputs": []
    },
    {
      "cell_type": "code",
      "source": [
        "model=user_restaurant_embedding_model(n_factors)"
      ],
      "metadata": {
        "colab": {
          "base_uri": "https://localhost:8080/"
        },
        "id": "7xt_RcHmWhjQ",
        "outputId": "0a859632-61ff-472e-db97-dea56bba251c"
      },
      "execution_count": null,
      "outputs": [
        {
          "output_type": "stream",
          "name": "stderr",
          "text": [
            "/usr/local/lib/python3.7/dist-packages/keras/optimizer_v2/adam.py:105: UserWarning: The `lr` argument is deprecated, use `learning_rate` instead.\n",
            "  super(Adam, self).__init__(name, **kwargs)\n"
          ]
        }
      ]
    },
    {
      "cell_type": "code",
      "source": [
        "model.summary()"
      ],
      "metadata": {
        "colab": {
          "base_uri": "https://localhost:8080/"
        },
        "id": "2SoxsZIFIc00",
        "outputId": "bc48ee35-57d3-4e53-87f9-c74e46643d30"
      },
      "execution_count": null,
      "outputs": [
        {
          "output_type": "stream",
          "name": "stdout",
          "text": [
            "Model: \"model_1\"\n",
            "__________________________________________________________________________________________________\n",
            " Layer (type)                   Output Shape         Param #     Connected to                     \n",
            "==================================================================================================\n",
            " input_4 (InputLayer)           [(None, 1)]          0           []                               \n",
            "                                                                                                  \n",
            " input_5 (InputLayer)           [(None, 1)]          0           []                               \n",
            "                                                                                                  \n",
            " embedding_2 (Embedding)        (None, 1, 50)        72299200    ['input_4[0][0]']                \n",
            "                                                                                                  \n",
            " embedding_3 (Embedding)        (None, 1, 50)        2613400     ['input_5[0][0]']                \n",
            "                                                                                                  \n",
            " dot_1 (Dot)                    (None, 1, 1)         0           ['embedding_2[0][0]',            \n",
            "                                                                  'embedding_3[0][0]']            \n",
            "                                                                                                  \n",
            " reshape_1 (Reshape)            (None, 1)            0           ['dot_1[0][0]']                  \n",
            "                                                                                                  \n",
            " activation_1 (Activation)      (None, 1)            0           ['reshape_1[0][0]']              \n",
            "                                                                                                  \n",
            " lambda_1 (Lambda)              (None, 1)            0           ['activation_1[0][0]']           \n",
            "                                                                                                  \n",
            "==================================================================================================\n",
            "Total params: 74,912,600\n",
            "Trainable params: 74,912,600\n",
            "Non-trainable params: 0\n",
            "__________________________________________________________________________________________________\n"
          ]
        }
      ]
    },
    {
      "cell_type": "code",
      "source": [
        "model.fit(x=X_train_array, y=y_train_neural, batch_size=64,\\\n",
        "                          epochs=5, verbose=1, validation_data=(X_test_array, y_test_neural))"
      ],
      "metadata": {
        "colab": {
          "base_uri": "https://localhost:8080/"
        },
        "id": "L95paBw7XETn",
        "outputId": "aece1370-e28c-4281-e4a7-9de9ad3fd93e"
      },
      "execution_count": null,
      "outputs": [
        {
          "output_type": "stream",
          "name": "stdout",
          "text": [
            "Epoch 1/5\n",
            "59056/59056 [==============================] - 2426s 41ms/step - loss: 2.4271 - val_loss: 2.1984\n",
            "Epoch 2/5\n",
            "59056/59056 [==============================] - 2409s 41ms/step - loss: 1.5942 - val_loss: 2.0777\n",
            "Epoch 3/5\n",
            "59056/59056 [==============================] - 2413s 41ms/step - loss: 1.3198 - val_loss: 2.0290\n",
            "Epoch 4/5\n",
            "59056/59056 [==============================] - 2411s 41ms/step - loss: 1.2333 - val_loss: 2.0025\n",
            "Epoch 5/5\n",
            "59056/59056 [==============================] - 2405s 41ms/step - loss: 1.1973 - val_loss: 1.9868\n"
          ]
        },
        {
          "output_type": "execute_result",
          "data": {
            "text/plain": [
              "<keras.callbacks.History at 0x7fc76a6d36d0>"
            ]
          },
          "metadata": {},
          "execution_count": 39
        }
      ]
    },
    {
      "cell_type": "code",
      "source": [
        "model.save('/content/drive/MyDrive/Restaurant_recommender_system/my_nn_model.h5')"
      ],
      "metadata": {
        "id": "TiCc4TvCYCG2"
      },
      "execution_count": null,
      "outputs": []
    },
    {
      "cell_type": "code",
      "source": [
        "nn_model = load_model('/content/drive/MyDrive/Restaurant_recommender_system/my_nn_model.h5')"
      ],
      "metadata": {
        "id": "PfjZYA_mPIOg"
      },
      "execution_count": null,
      "outputs": []
    },
    {
      "cell_type": "code",
      "source": [
        "predict_neural_network=nn_model.predict(X_test_array)"
      ],
      "metadata": {
        "id": "5yQtV9bmQHYi"
      },
      "execution_count": null,
      "outputs": []
    },
    {
      "cell_type": "code",
      "source": [
        "comparison=pd.DataFrame(y_test_neural,columns=['actual stars'])"
      ],
      "metadata": {
        "id": "E7bHvBGMR3qU"
      },
      "execution_count": null,
      "outputs": []
    },
    {
      "cell_type": "code",
      "source": [
        "comparison['predicted_stars']=predict_neural_network"
      ],
      "metadata": {
        "id": "8lXQxTQaR6df"
      },
      "execution_count": null,
      "outputs": []
    },
    {
      "cell_type": "code",
      "source": [
        "comparison.head(10)"
      ],
      "metadata": {
        "colab": {
          "base_uri": "https://localhost:8080/",
          "height": 363
        },
        "id": "mV0bpgLgS2M5",
        "outputId": "6a749a19-82bb-4a18-dcf1-67f77948214a"
      },
      "execution_count": null,
      "outputs": [
        {
          "output_type": "execute_result",
          "data": {
            "text/plain": [
              "   actual stars  predicted_stars\n",
              "0           2.0         3.528209\n",
              "1           5.0         3.624906\n",
              "2           4.0         3.469417\n",
              "3           3.0         2.982687\n",
              "4           5.0         3.069288\n",
              "5           5.0         3.758043\n",
              "6           5.0         3.903355\n",
              "7           5.0         3.161418\n",
              "8           5.0         3.117983\n",
              "9           1.0         2.903583"
            ],
            "text/html": [
              "\n",
              "  <div id=\"df-d4990462-9f75-4bf9-a0ab-90cdaa013595\">\n",
              "    <div class=\"colab-df-container\">\n",
              "      <div>\n",
              "<style scoped>\n",
              "    .dataframe tbody tr th:only-of-type {\n",
              "        vertical-align: middle;\n",
              "    }\n",
              "\n",
              "    .dataframe tbody tr th {\n",
              "        vertical-align: top;\n",
              "    }\n",
              "\n",
              "    .dataframe thead th {\n",
              "        text-align: right;\n",
              "    }\n",
              "</style>\n",
              "<table border=\"1\" class=\"dataframe\">\n",
              "  <thead>\n",
              "    <tr style=\"text-align: right;\">\n",
              "      <th></th>\n",
              "      <th>actual stars</th>\n",
              "      <th>predicted_stars</th>\n",
              "    </tr>\n",
              "  </thead>\n",
              "  <tbody>\n",
              "    <tr>\n",
              "      <th>0</th>\n",
              "      <td>2.0</td>\n",
              "      <td>3.528209</td>\n",
              "    </tr>\n",
              "    <tr>\n",
              "      <th>1</th>\n",
              "      <td>5.0</td>\n",
              "      <td>3.624906</td>\n",
              "    </tr>\n",
              "    <tr>\n",
              "      <th>2</th>\n",
              "      <td>4.0</td>\n",
              "      <td>3.469417</td>\n",
              "    </tr>\n",
              "    <tr>\n",
              "      <th>3</th>\n",
              "      <td>3.0</td>\n",
              "      <td>2.982687</td>\n",
              "    </tr>\n",
              "    <tr>\n",
              "      <th>4</th>\n",
              "      <td>5.0</td>\n",
              "      <td>3.069288</td>\n",
              "    </tr>\n",
              "    <tr>\n",
              "      <th>5</th>\n",
              "      <td>5.0</td>\n",
              "      <td>3.758043</td>\n",
              "    </tr>\n",
              "    <tr>\n",
              "      <th>6</th>\n",
              "      <td>5.0</td>\n",
              "      <td>3.903355</td>\n",
              "    </tr>\n",
              "    <tr>\n",
              "      <th>7</th>\n",
              "      <td>5.0</td>\n",
              "      <td>3.161418</td>\n",
              "    </tr>\n",
              "    <tr>\n",
              "      <th>8</th>\n",
              "      <td>5.0</td>\n",
              "      <td>3.117983</td>\n",
              "    </tr>\n",
              "    <tr>\n",
              "      <th>9</th>\n",
              "      <td>1.0</td>\n",
              "      <td>2.903583</td>\n",
              "    </tr>\n",
              "  </tbody>\n",
              "</table>\n",
              "</div>\n",
              "      <button class=\"colab-df-convert\" onclick=\"convertToInteractive('df-d4990462-9f75-4bf9-a0ab-90cdaa013595')\"\n",
              "              title=\"Convert this dataframe to an interactive table.\"\n",
              "              style=\"display:none;\">\n",
              "        \n",
              "  <svg xmlns=\"http://www.w3.org/2000/svg\" height=\"24px\"viewBox=\"0 0 24 24\"\n",
              "       width=\"24px\">\n",
              "    <path d=\"M0 0h24v24H0V0z\" fill=\"none\"/>\n",
              "    <path d=\"M18.56 5.44l.94 2.06.94-2.06 2.06-.94-2.06-.94-.94-2.06-.94 2.06-2.06.94zm-11 1L8.5 8.5l.94-2.06 2.06-.94-2.06-.94L8.5 2.5l-.94 2.06-2.06.94zm10 10l.94 2.06.94-2.06 2.06-.94-2.06-.94-.94-2.06-.94 2.06-2.06.94z\"/><path d=\"M17.41 7.96l-1.37-1.37c-.4-.4-.92-.59-1.43-.59-.52 0-1.04.2-1.43.59L10.3 9.45l-7.72 7.72c-.78.78-.78 2.05 0 2.83L4 21.41c.39.39.9.59 1.41.59.51 0 1.02-.2 1.41-.59l7.78-7.78 2.81-2.81c.8-.78.8-2.07 0-2.86zM5.41 20L4 18.59l7.72-7.72 1.47 1.35L5.41 20z\"/>\n",
              "  </svg>\n",
              "      </button>\n",
              "      \n",
              "  <style>\n",
              "    .colab-df-container {\n",
              "      display:flex;\n",
              "      flex-wrap:wrap;\n",
              "      gap: 12px;\n",
              "    }\n",
              "\n",
              "    .colab-df-convert {\n",
              "      background-color: #E8F0FE;\n",
              "      border: none;\n",
              "      border-radius: 50%;\n",
              "      cursor: pointer;\n",
              "      display: none;\n",
              "      fill: #1967D2;\n",
              "      height: 32px;\n",
              "      padding: 0 0 0 0;\n",
              "      width: 32px;\n",
              "    }\n",
              "\n",
              "    .colab-df-convert:hover {\n",
              "      background-color: #E2EBFA;\n",
              "      box-shadow: 0px 1px 2px rgba(60, 64, 67, 0.3), 0px 1px 3px 1px rgba(60, 64, 67, 0.15);\n",
              "      fill: #174EA6;\n",
              "    }\n",
              "\n",
              "    [theme=dark] .colab-df-convert {\n",
              "      background-color: #3B4455;\n",
              "      fill: #D2E3FC;\n",
              "    }\n",
              "\n",
              "    [theme=dark] .colab-df-convert:hover {\n",
              "      background-color: #434B5C;\n",
              "      box-shadow: 0px 1px 3px 1px rgba(0, 0, 0, 0.15);\n",
              "      filter: drop-shadow(0px 1px 2px rgba(0, 0, 0, 0.3));\n",
              "      fill: #FFFFFF;\n",
              "    }\n",
              "  </style>\n",
              "\n",
              "      <script>\n",
              "        const buttonEl =\n",
              "          document.querySelector('#df-d4990462-9f75-4bf9-a0ab-90cdaa013595 button.colab-df-convert');\n",
              "        buttonEl.style.display =\n",
              "          google.colab.kernel.accessAllowed ? 'block' : 'none';\n",
              "\n",
              "        async function convertToInteractive(key) {\n",
              "          const element = document.querySelector('#df-d4990462-9f75-4bf9-a0ab-90cdaa013595');\n",
              "          const dataTable =\n",
              "            await google.colab.kernel.invokeFunction('convertToInteractive',\n",
              "                                                     [key], {});\n",
              "          if (!dataTable) return;\n",
              "\n",
              "          const docLinkHtml = 'Like what you see? Visit the ' +\n",
              "            '<a target=\"_blank\" href=https://colab.research.google.com/notebooks/data_table.ipynb>data table notebook</a>'\n",
              "            + ' to learn more about interactive tables.';\n",
              "          element.innerHTML = '';\n",
              "          dataTable['output_type'] = 'display_data';\n",
              "          await google.colab.output.renderOutput(dataTable, element);\n",
              "          const docLink = document.createElement('div');\n",
              "          docLink.innerHTML = docLinkHtml;\n",
              "          element.appendChild(docLink);\n",
              "        }\n",
              "      </script>\n",
              "    </div>\n",
              "  </div>\n",
              "  "
            ]
          },
          "metadata": {},
          "execution_count": 33
        }
      ]
    },
    {
      "cell_type": "code",
      "source": [
        "restaurant_embeddings=nn_model.get_layer('embedding_3')"
      ],
      "metadata": {
        "id": "Q1aa037CS4s6"
      },
      "execution_count": null,
      "outputs": []
    },
    {
      "cell_type": "code",
      "source": [
        "weights=restaurant_embeddings.get_weights()[0]"
      ],
      "metadata": {
        "id": "xR-fTrOhWABf"
      },
      "execution_count": null,
      "outputs": []
    },
    {
      "cell_type": "markdown",
      "source": [
        "*We have 52268 restaurants and each is represented by a 50 dimensional vector*"
      ],
      "metadata": {
        "id": "a8CrUcB2Wfpx"
      }
    },
    {
      "cell_type": "code",
      "source": [
        "weights.shape"
      ],
      "metadata": {
        "colab": {
          "base_uri": "https://localhost:8080/"
        },
        "id": "5pw_5_j-WDvB",
        "outputId": "a67d462f-1e73-4798-ef2c-03c7ffa0576b"
      },
      "execution_count": null,
      "outputs": [
        {
          "output_type": "execute_result",
          "data": {
            "text/plain": [
              "(52268, 50)"
            ]
          },
          "metadata": {},
          "execution_count": 42
        }
      ]
    },
    {
      "cell_type": "code",
      "source": [
        "weights_normalised = weights / np.linalg.norm(weights, axis = 1).reshape((-1, 1))"
      ],
      "metadata": {
        "id": "sYzSsZM-WY4w"
      },
      "execution_count": null,
      "outputs": []
    },
    {
      "cell_type": "code",
      "source": [
        "unique_business_id=merged_review_restaurants_user_neural['business_id'].unique()"
      ],
      "metadata": {
        "id": "PRTZkMC0W8um"
      },
      "execution_count": null,
      "outputs": []
    },
    {
      "cell_type": "code",
      "source": [
        "recommendation_dataframe=pd.DataFrame(weights_normalised)"
      ],
      "metadata": {
        "id": "jCsQbplzfzNW"
      },
      "execution_count": null,
      "outputs": []
    },
    {
      "cell_type": "code",
      "source": [
        "recommendation_dataframe['business_id']=unique_business_id"
      ],
      "metadata": {
        "id": "Lva09Zsog-H6"
      },
      "execution_count": null,
      "outputs": []
    },
    {
      "cell_type": "code",
      "source": [
        "recommendation_dataframe=recommendation_dataframe.set_index('business_id')"
      ],
      "metadata": {
        "id": "3vZabISfhSiZ"
      },
      "execution_count": null,
      "outputs": []
    },
    {
      "cell_type": "code",
      "source": [
        "recommendation_dataframe.head()"
      ],
      "metadata": {
        "colab": {
          "base_uri": "https://localhost:8080/",
          "height": 366
        },
        "id": "f2cMxFcIhMfg",
        "outputId": "4a3608f2-3854-4966-bd8a-32ca017f7bd7"
      },
      "execution_count": null,
      "outputs": [
        {
          "output_type": "execute_result",
          "data": {
            "text/plain": [
              "                              0         1         2         3         4   \\\n",
              "business_id                                                                \n",
              "1FURjeGJi_LBXcJQg8eskw -0.038985  0.152899  0.073934  0.046184 -0.011672   \n",
              "mAqgsZBTN-wsShMpkz2o9g -0.025398  0.213811  0.079798  0.044460 -0.102752   \n",
              "GnKtYBofkhA3ZmUBJPS-7w  0.135286  0.122788 -0.076840 -0.036663  0.148562   \n",
              "Qw7tz-UkPrpXaVidWuab4Q  0.206953 -0.192971  0.232455 -0.120145  0.061338   \n",
              "QjQ-gtUnkne7jch0OLsPIg  0.177201  0.150076  0.043408  0.058002  0.000551   \n",
              "\n",
              "                              5         6         7         8         9   ...  \\\n",
              "business_id                                                               ...   \n",
              "1FURjeGJi_LBXcJQg8eskw  0.005899 -0.101574  0.117205  0.036775  0.212906  ...   \n",
              "mAqgsZBTN-wsShMpkz2o9g -0.093317 -0.093935  0.162764  0.010133 -0.092914  ...   \n",
              "GnKtYBofkhA3ZmUBJPS-7w -0.235680 -0.002411 -0.080690 -0.032379 -0.143854  ...   \n",
              "Qw7tz-UkPrpXaVidWuab4Q  0.194372  0.129191  0.102290 -0.152210  0.114257  ...   \n",
              "QjQ-gtUnkne7jch0OLsPIg -0.088512  0.169321 -0.004292 -0.105609  0.046586  ...   \n",
              "\n",
              "                              40        41        42        43        44  \\\n",
              "business_id                                                                \n",
              "1FURjeGJi_LBXcJQg8eskw  0.061225  0.238206  0.203687 -0.127813 -0.068369   \n",
              "mAqgsZBTN-wsShMpkz2o9g  0.145437  0.240340 -0.102908  0.095997 -0.198395   \n",
              "GnKtYBofkhA3ZmUBJPS-7w -0.128163 -0.076309 -0.102794 -0.234711 -0.106439   \n",
              "Qw7tz-UkPrpXaVidWuab4Q -0.142484  0.000156 -0.054862 -0.004516 -0.224264   \n",
              "QjQ-gtUnkne7jch0OLsPIg -0.169977 -0.009093 -0.082940  0.172254 -0.095489   \n",
              "\n",
              "                              45        46        47        48        49  \n",
              "business_id                                                               \n",
              "1FURjeGJi_LBXcJQg8eskw  0.260656  0.000262 -0.213031  0.257549 -0.091089  \n",
              "mAqgsZBTN-wsShMpkz2o9g -0.078582  0.227457 -0.106085  0.237445  0.143756  \n",
              "GnKtYBofkhA3ZmUBJPS-7w  0.003814  0.062588  0.146957  0.103223 -0.126573  \n",
              "Qw7tz-UkPrpXaVidWuab4Q -0.099131  0.103860 -0.044503 -0.098962  0.176562  \n",
              "QjQ-gtUnkne7jch0OLsPIg  0.151898  0.156279 -0.211840  0.053217 -0.046154  \n",
              "\n",
              "[5 rows x 50 columns]"
            ],
            "text/html": [
              "\n",
              "  <div id=\"df-1fd35fe5-63a2-4990-b2c9-2ddc067e20cb\">\n",
              "    <div class=\"colab-df-container\">\n",
              "      <div>\n",
              "<style scoped>\n",
              "    .dataframe tbody tr th:only-of-type {\n",
              "        vertical-align: middle;\n",
              "    }\n",
              "\n",
              "    .dataframe tbody tr th {\n",
              "        vertical-align: top;\n",
              "    }\n",
              "\n",
              "    .dataframe thead th {\n",
              "        text-align: right;\n",
              "    }\n",
              "</style>\n",
              "<table border=\"1\" class=\"dataframe\">\n",
              "  <thead>\n",
              "    <tr style=\"text-align: right;\">\n",
              "      <th></th>\n",
              "      <th>0</th>\n",
              "      <th>1</th>\n",
              "      <th>2</th>\n",
              "      <th>3</th>\n",
              "      <th>4</th>\n",
              "      <th>5</th>\n",
              "      <th>6</th>\n",
              "      <th>7</th>\n",
              "      <th>8</th>\n",
              "      <th>9</th>\n",
              "      <th>...</th>\n",
              "      <th>40</th>\n",
              "      <th>41</th>\n",
              "      <th>42</th>\n",
              "      <th>43</th>\n",
              "      <th>44</th>\n",
              "      <th>45</th>\n",
              "      <th>46</th>\n",
              "      <th>47</th>\n",
              "      <th>48</th>\n",
              "      <th>49</th>\n",
              "    </tr>\n",
              "    <tr>\n",
              "      <th>business_id</th>\n",
              "      <th></th>\n",
              "      <th></th>\n",
              "      <th></th>\n",
              "      <th></th>\n",
              "      <th></th>\n",
              "      <th></th>\n",
              "      <th></th>\n",
              "      <th></th>\n",
              "      <th></th>\n",
              "      <th></th>\n",
              "      <th></th>\n",
              "      <th></th>\n",
              "      <th></th>\n",
              "      <th></th>\n",
              "      <th></th>\n",
              "      <th></th>\n",
              "      <th></th>\n",
              "      <th></th>\n",
              "      <th></th>\n",
              "      <th></th>\n",
              "      <th></th>\n",
              "    </tr>\n",
              "  </thead>\n",
              "  <tbody>\n",
              "    <tr>\n",
              "      <th>1FURjeGJi_LBXcJQg8eskw</th>\n",
              "      <td>-0.038985</td>\n",
              "      <td>0.152899</td>\n",
              "      <td>0.073934</td>\n",
              "      <td>0.046184</td>\n",
              "      <td>-0.011672</td>\n",
              "      <td>0.005899</td>\n",
              "      <td>-0.101574</td>\n",
              "      <td>0.117205</td>\n",
              "      <td>0.036775</td>\n",
              "      <td>0.212906</td>\n",
              "      <td>...</td>\n",
              "      <td>0.061225</td>\n",
              "      <td>0.238206</td>\n",
              "      <td>0.203687</td>\n",
              "      <td>-0.127813</td>\n",
              "      <td>-0.068369</td>\n",
              "      <td>0.260656</td>\n",
              "      <td>0.000262</td>\n",
              "      <td>-0.213031</td>\n",
              "      <td>0.257549</td>\n",
              "      <td>-0.091089</td>\n",
              "    </tr>\n",
              "    <tr>\n",
              "      <th>mAqgsZBTN-wsShMpkz2o9g</th>\n",
              "      <td>-0.025398</td>\n",
              "      <td>0.213811</td>\n",
              "      <td>0.079798</td>\n",
              "      <td>0.044460</td>\n",
              "      <td>-0.102752</td>\n",
              "      <td>-0.093317</td>\n",
              "      <td>-0.093935</td>\n",
              "      <td>0.162764</td>\n",
              "      <td>0.010133</td>\n",
              "      <td>-0.092914</td>\n",
              "      <td>...</td>\n",
              "      <td>0.145437</td>\n",
              "      <td>0.240340</td>\n",
              "      <td>-0.102908</td>\n",
              "      <td>0.095997</td>\n",
              "      <td>-0.198395</td>\n",
              "      <td>-0.078582</td>\n",
              "      <td>0.227457</td>\n",
              "      <td>-0.106085</td>\n",
              "      <td>0.237445</td>\n",
              "      <td>0.143756</td>\n",
              "    </tr>\n",
              "    <tr>\n",
              "      <th>GnKtYBofkhA3ZmUBJPS-7w</th>\n",
              "      <td>0.135286</td>\n",
              "      <td>0.122788</td>\n",
              "      <td>-0.076840</td>\n",
              "      <td>-0.036663</td>\n",
              "      <td>0.148562</td>\n",
              "      <td>-0.235680</td>\n",
              "      <td>-0.002411</td>\n",
              "      <td>-0.080690</td>\n",
              "      <td>-0.032379</td>\n",
              "      <td>-0.143854</td>\n",
              "      <td>...</td>\n",
              "      <td>-0.128163</td>\n",
              "      <td>-0.076309</td>\n",
              "      <td>-0.102794</td>\n",
              "      <td>-0.234711</td>\n",
              "      <td>-0.106439</td>\n",
              "      <td>0.003814</td>\n",
              "      <td>0.062588</td>\n",
              "      <td>0.146957</td>\n",
              "      <td>0.103223</td>\n",
              "      <td>-0.126573</td>\n",
              "    </tr>\n",
              "    <tr>\n",
              "      <th>Qw7tz-UkPrpXaVidWuab4Q</th>\n",
              "      <td>0.206953</td>\n",
              "      <td>-0.192971</td>\n",
              "      <td>0.232455</td>\n",
              "      <td>-0.120145</td>\n",
              "      <td>0.061338</td>\n",
              "      <td>0.194372</td>\n",
              "      <td>0.129191</td>\n",
              "      <td>0.102290</td>\n",
              "      <td>-0.152210</td>\n",
              "      <td>0.114257</td>\n",
              "      <td>...</td>\n",
              "      <td>-0.142484</td>\n",
              "      <td>0.000156</td>\n",
              "      <td>-0.054862</td>\n",
              "      <td>-0.004516</td>\n",
              "      <td>-0.224264</td>\n",
              "      <td>-0.099131</td>\n",
              "      <td>0.103860</td>\n",
              "      <td>-0.044503</td>\n",
              "      <td>-0.098962</td>\n",
              "      <td>0.176562</td>\n",
              "    </tr>\n",
              "    <tr>\n",
              "      <th>QjQ-gtUnkne7jch0OLsPIg</th>\n",
              "      <td>0.177201</td>\n",
              "      <td>0.150076</td>\n",
              "      <td>0.043408</td>\n",
              "      <td>0.058002</td>\n",
              "      <td>0.000551</td>\n",
              "      <td>-0.088512</td>\n",
              "      <td>0.169321</td>\n",
              "      <td>-0.004292</td>\n",
              "      <td>-0.105609</td>\n",
              "      <td>0.046586</td>\n",
              "      <td>...</td>\n",
              "      <td>-0.169977</td>\n",
              "      <td>-0.009093</td>\n",
              "      <td>-0.082940</td>\n",
              "      <td>0.172254</td>\n",
              "      <td>-0.095489</td>\n",
              "      <td>0.151898</td>\n",
              "      <td>0.156279</td>\n",
              "      <td>-0.211840</td>\n",
              "      <td>0.053217</td>\n",
              "      <td>-0.046154</td>\n",
              "    </tr>\n",
              "  </tbody>\n",
              "</table>\n",
              "<p>5 rows × 50 columns</p>\n",
              "</div>\n",
              "      <button class=\"colab-df-convert\" onclick=\"convertToInteractive('df-1fd35fe5-63a2-4990-b2c9-2ddc067e20cb')\"\n",
              "              title=\"Convert this dataframe to an interactive table.\"\n",
              "              style=\"display:none;\">\n",
              "        \n",
              "  <svg xmlns=\"http://www.w3.org/2000/svg\" height=\"24px\"viewBox=\"0 0 24 24\"\n",
              "       width=\"24px\">\n",
              "    <path d=\"M0 0h24v24H0V0z\" fill=\"none\"/>\n",
              "    <path d=\"M18.56 5.44l.94 2.06.94-2.06 2.06-.94-2.06-.94-.94-2.06-.94 2.06-2.06.94zm-11 1L8.5 8.5l.94-2.06 2.06-.94-2.06-.94L8.5 2.5l-.94 2.06-2.06.94zm10 10l.94 2.06.94-2.06 2.06-.94-2.06-.94-.94-2.06-.94 2.06-2.06.94z\"/><path d=\"M17.41 7.96l-1.37-1.37c-.4-.4-.92-.59-1.43-.59-.52 0-1.04.2-1.43.59L10.3 9.45l-7.72 7.72c-.78.78-.78 2.05 0 2.83L4 21.41c.39.39.9.59 1.41.59.51 0 1.02-.2 1.41-.59l7.78-7.78 2.81-2.81c.8-.78.8-2.07 0-2.86zM5.41 20L4 18.59l7.72-7.72 1.47 1.35L5.41 20z\"/>\n",
              "  </svg>\n",
              "      </button>\n",
              "      \n",
              "  <style>\n",
              "    .colab-df-container {\n",
              "      display:flex;\n",
              "      flex-wrap:wrap;\n",
              "      gap: 12px;\n",
              "    }\n",
              "\n",
              "    .colab-df-convert {\n",
              "      background-color: #E8F0FE;\n",
              "      border: none;\n",
              "      border-radius: 50%;\n",
              "      cursor: pointer;\n",
              "      display: none;\n",
              "      fill: #1967D2;\n",
              "      height: 32px;\n",
              "      padding: 0 0 0 0;\n",
              "      width: 32px;\n",
              "    }\n",
              "\n",
              "    .colab-df-convert:hover {\n",
              "      background-color: #E2EBFA;\n",
              "      box-shadow: 0px 1px 2px rgba(60, 64, 67, 0.3), 0px 1px 3px 1px rgba(60, 64, 67, 0.15);\n",
              "      fill: #174EA6;\n",
              "    }\n",
              "\n",
              "    [theme=dark] .colab-df-convert {\n",
              "      background-color: #3B4455;\n",
              "      fill: #D2E3FC;\n",
              "    }\n",
              "\n",
              "    [theme=dark] .colab-df-convert:hover {\n",
              "      background-color: #434B5C;\n",
              "      box-shadow: 0px 1px 3px 1px rgba(0, 0, 0, 0.15);\n",
              "      filter: drop-shadow(0px 1px 2px rgba(0, 0, 0, 0.3));\n",
              "      fill: #FFFFFF;\n",
              "    }\n",
              "  </style>\n",
              "\n",
              "      <script>\n",
              "        const buttonEl =\n",
              "          document.querySelector('#df-1fd35fe5-63a2-4990-b2c9-2ddc067e20cb button.colab-df-convert');\n",
              "        buttonEl.style.display =\n",
              "          google.colab.kernel.accessAllowed ? 'block' : 'none';\n",
              "\n",
              "        async function convertToInteractive(key) {\n",
              "          const element = document.querySelector('#df-1fd35fe5-63a2-4990-b2c9-2ddc067e20cb');\n",
              "          const dataTable =\n",
              "            await google.colab.kernel.invokeFunction('convertToInteractive',\n",
              "                                                     [key], {});\n",
              "          if (!dataTable) return;\n",
              "\n",
              "          const docLinkHtml = 'Like what you see? Visit the ' +\n",
              "            '<a target=\"_blank\" href=https://colab.research.google.com/notebooks/data_table.ipynb>data table notebook</a>'\n",
              "            + ' to learn more about interactive tables.';\n",
              "          element.innerHTML = '';\n",
              "          dataTable['output_type'] = 'display_data';\n",
              "          await google.colab.output.renderOutput(dataTable, element);\n",
              "          const docLink = document.createElement('div');\n",
              "          docLink.innerHTML = docLinkHtml;\n",
              "          element.appendChild(docLink);\n",
              "        }\n",
              "      </script>\n",
              "    </div>\n",
              "  </div>\n",
              "  "
            ]
          },
          "metadata": {},
          "execution_count": 62
        }
      ]
    },
    {
      "cell_type": "code",
      "source": [
        "business_names=merged_review_restaurants_user_neural[['business_id','name_y']].drop_duplicates()"
      ],
      "metadata": {
        "id": "dlWSOhfkjqTL"
      },
      "execution_count": null,
      "outputs": []
    },
    {
      "cell_type": "code",
      "source": [
        "business_names.shape"
      ],
      "metadata": {
        "colab": {
          "base_uri": "https://localhost:8080/"
        },
        "id": "olrrcAZpkE3K",
        "outputId": "d5c6b212-7a0c-4b62-eec8-0b9cd05a9200"
      },
      "execution_count": null,
      "outputs": [
        {
          "output_type": "execute_result",
          "data": {
            "text/plain": [
              "(52268, 2)"
            ]
          },
          "metadata": {},
          "execution_count": 73
        }
      ]
    },
    {
      "cell_type": "code",
      "source": [
        "restaurant_recommendation_dataframe=pd.merge(business_names,recommendation_dataframe,on='business_id')"
      ],
      "metadata": {
        "id": "nJIR5mGMkHl-"
      },
      "execution_count": null,
      "outputs": []
    },
    {
      "cell_type": "code",
      "source": [
        "restaurant_recommendation_dataframe.head()"
      ],
      "metadata": {
        "colab": {
          "base_uri": "https://localhost:8080/",
          "height": 421
        },
        "id": "s5FE3Bftkyep",
        "outputId": "ad0fbb15-aaea-4bea-befa-33039df522c9"
      },
      "execution_count": null,
      "outputs": [
        {
          "output_type": "execute_result",
          "data": {
            "text/plain": [
              "              business_id                      name_y         0         1  \\\n",
              "0  1FURjeGJi_LBXcJQg8eskw          Padaro Beach Grill -0.038985  0.152899   \n",
              "1  mAqgsZBTN-wsShMpkz2o9g    Cantwell's Market & Deli -0.025398  0.213811   \n",
              "2  GnKtYBofkhA3ZmUBJPS-7w                  Joes Diner  0.135286  0.122788   \n",
              "3  Qw7tz-UkPrpXaVidWuab4Q  Philadelphia Museum of Art  0.206953 -0.192971   \n",
              "4  QjQ-gtUnkne7jch0OLsPIg                Rosie's Café  0.177201  0.150076   \n",
              "\n",
              "          2         3         4         5         6         7  ...        40  \\\n",
              "0  0.073934  0.046184 -0.011672  0.005899 -0.101574  0.117205  ...  0.061225   \n",
              "1  0.079798  0.044460 -0.102752 -0.093317 -0.093935  0.162764  ...  0.145437   \n",
              "2 -0.076840 -0.036663  0.148562 -0.235680 -0.002411 -0.080690  ... -0.128163   \n",
              "3  0.232455 -0.120145  0.061338  0.194372  0.129191  0.102290  ... -0.142484   \n",
              "4  0.043408  0.058002  0.000551 -0.088512  0.169321 -0.004292  ... -0.169977   \n",
              "\n",
              "         41        42        43        44        45        46        47  \\\n",
              "0  0.238206  0.203687 -0.127813 -0.068369  0.260656  0.000262 -0.213031   \n",
              "1  0.240340 -0.102908  0.095997 -0.198395 -0.078582  0.227457 -0.106085   \n",
              "2 -0.076309 -0.102794 -0.234711 -0.106439  0.003814  0.062588  0.146957   \n",
              "3  0.000156 -0.054862 -0.004516 -0.224264 -0.099131  0.103860 -0.044503   \n",
              "4 -0.009093 -0.082940  0.172254 -0.095489  0.151898  0.156279 -0.211840   \n",
              "\n",
              "         48        49  \n",
              "0  0.257549 -0.091089  \n",
              "1  0.237445  0.143756  \n",
              "2  0.103223 -0.126573  \n",
              "3 -0.098962  0.176562  \n",
              "4  0.053217 -0.046154  \n",
              "\n",
              "[5 rows x 52 columns]"
            ],
            "text/html": [
              "\n",
              "  <div id=\"df-d438e8f7-e1db-4583-9231-02bacaf5893a\">\n",
              "    <div class=\"colab-df-container\">\n",
              "      <div>\n",
              "<style scoped>\n",
              "    .dataframe tbody tr th:only-of-type {\n",
              "        vertical-align: middle;\n",
              "    }\n",
              "\n",
              "    .dataframe tbody tr th {\n",
              "        vertical-align: top;\n",
              "    }\n",
              "\n",
              "    .dataframe thead th {\n",
              "        text-align: right;\n",
              "    }\n",
              "</style>\n",
              "<table border=\"1\" class=\"dataframe\">\n",
              "  <thead>\n",
              "    <tr style=\"text-align: right;\">\n",
              "      <th></th>\n",
              "      <th>business_id</th>\n",
              "      <th>name_y</th>\n",
              "      <th>0</th>\n",
              "      <th>1</th>\n",
              "      <th>2</th>\n",
              "      <th>3</th>\n",
              "      <th>4</th>\n",
              "      <th>5</th>\n",
              "      <th>6</th>\n",
              "      <th>7</th>\n",
              "      <th>...</th>\n",
              "      <th>40</th>\n",
              "      <th>41</th>\n",
              "      <th>42</th>\n",
              "      <th>43</th>\n",
              "      <th>44</th>\n",
              "      <th>45</th>\n",
              "      <th>46</th>\n",
              "      <th>47</th>\n",
              "      <th>48</th>\n",
              "      <th>49</th>\n",
              "    </tr>\n",
              "  </thead>\n",
              "  <tbody>\n",
              "    <tr>\n",
              "      <th>0</th>\n",
              "      <td>1FURjeGJi_LBXcJQg8eskw</td>\n",
              "      <td>Padaro Beach Grill</td>\n",
              "      <td>-0.038985</td>\n",
              "      <td>0.152899</td>\n",
              "      <td>0.073934</td>\n",
              "      <td>0.046184</td>\n",
              "      <td>-0.011672</td>\n",
              "      <td>0.005899</td>\n",
              "      <td>-0.101574</td>\n",
              "      <td>0.117205</td>\n",
              "      <td>...</td>\n",
              "      <td>0.061225</td>\n",
              "      <td>0.238206</td>\n",
              "      <td>0.203687</td>\n",
              "      <td>-0.127813</td>\n",
              "      <td>-0.068369</td>\n",
              "      <td>0.260656</td>\n",
              "      <td>0.000262</td>\n",
              "      <td>-0.213031</td>\n",
              "      <td>0.257549</td>\n",
              "      <td>-0.091089</td>\n",
              "    </tr>\n",
              "    <tr>\n",
              "      <th>1</th>\n",
              "      <td>mAqgsZBTN-wsShMpkz2o9g</td>\n",
              "      <td>Cantwell's Market &amp; Deli</td>\n",
              "      <td>-0.025398</td>\n",
              "      <td>0.213811</td>\n",
              "      <td>0.079798</td>\n",
              "      <td>0.044460</td>\n",
              "      <td>-0.102752</td>\n",
              "      <td>-0.093317</td>\n",
              "      <td>-0.093935</td>\n",
              "      <td>0.162764</td>\n",
              "      <td>...</td>\n",
              "      <td>0.145437</td>\n",
              "      <td>0.240340</td>\n",
              "      <td>-0.102908</td>\n",
              "      <td>0.095997</td>\n",
              "      <td>-0.198395</td>\n",
              "      <td>-0.078582</td>\n",
              "      <td>0.227457</td>\n",
              "      <td>-0.106085</td>\n",
              "      <td>0.237445</td>\n",
              "      <td>0.143756</td>\n",
              "    </tr>\n",
              "    <tr>\n",
              "      <th>2</th>\n",
              "      <td>GnKtYBofkhA3ZmUBJPS-7w</td>\n",
              "      <td>Joes Diner</td>\n",
              "      <td>0.135286</td>\n",
              "      <td>0.122788</td>\n",
              "      <td>-0.076840</td>\n",
              "      <td>-0.036663</td>\n",
              "      <td>0.148562</td>\n",
              "      <td>-0.235680</td>\n",
              "      <td>-0.002411</td>\n",
              "      <td>-0.080690</td>\n",
              "      <td>...</td>\n",
              "      <td>-0.128163</td>\n",
              "      <td>-0.076309</td>\n",
              "      <td>-0.102794</td>\n",
              "      <td>-0.234711</td>\n",
              "      <td>-0.106439</td>\n",
              "      <td>0.003814</td>\n",
              "      <td>0.062588</td>\n",
              "      <td>0.146957</td>\n",
              "      <td>0.103223</td>\n",
              "      <td>-0.126573</td>\n",
              "    </tr>\n",
              "    <tr>\n",
              "      <th>3</th>\n",
              "      <td>Qw7tz-UkPrpXaVidWuab4Q</td>\n",
              "      <td>Philadelphia Museum of Art</td>\n",
              "      <td>0.206953</td>\n",
              "      <td>-0.192971</td>\n",
              "      <td>0.232455</td>\n",
              "      <td>-0.120145</td>\n",
              "      <td>0.061338</td>\n",
              "      <td>0.194372</td>\n",
              "      <td>0.129191</td>\n",
              "      <td>0.102290</td>\n",
              "      <td>...</td>\n",
              "      <td>-0.142484</td>\n",
              "      <td>0.000156</td>\n",
              "      <td>-0.054862</td>\n",
              "      <td>-0.004516</td>\n",
              "      <td>-0.224264</td>\n",
              "      <td>-0.099131</td>\n",
              "      <td>0.103860</td>\n",
              "      <td>-0.044503</td>\n",
              "      <td>-0.098962</td>\n",
              "      <td>0.176562</td>\n",
              "    </tr>\n",
              "    <tr>\n",
              "      <th>4</th>\n",
              "      <td>QjQ-gtUnkne7jch0OLsPIg</td>\n",
              "      <td>Rosie's Café</td>\n",
              "      <td>0.177201</td>\n",
              "      <td>0.150076</td>\n",
              "      <td>0.043408</td>\n",
              "      <td>0.058002</td>\n",
              "      <td>0.000551</td>\n",
              "      <td>-0.088512</td>\n",
              "      <td>0.169321</td>\n",
              "      <td>-0.004292</td>\n",
              "      <td>...</td>\n",
              "      <td>-0.169977</td>\n",
              "      <td>-0.009093</td>\n",
              "      <td>-0.082940</td>\n",
              "      <td>0.172254</td>\n",
              "      <td>-0.095489</td>\n",
              "      <td>0.151898</td>\n",
              "      <td>0.156279</td>\n",
              "      <td>-0.211840</td>\n",
              "      <td>0.053217</td>\n",
              "      <td>-0.046154</td>\n",
              "    </tr>\n",
              "  </tbody>\n",
              "</table>\n",
              "<p>5 rows × 52 columns</p>\n",
              "</div>\n",
              "      <button class=\"colab-df-convert\" onclick=\"convertToInteractive('df-d438e8f7-e1db-4583-9231-02bacaf5893a')\"\n",
              "              title=\"Convert this dataframe to an interactive table.\"\n",
              "              style=\"display:none;\">\n",
              "        \n",
              "  <svg xmlns=\"http://www.w3.org/2000/svg\" height=\"24px\"viewBox=\"0 0 24 24\"\n",
              "       width=\"24px\">\n",
              "    <path d=\"M0 0h24v24H0V0z\" fill=\"none\"/>\n",
              "    <path d=\"M18.56 5.44l.94 2.06.94-2.06 2.06-.94-2.06-.94-.94-2.06-.94 2.06-2.06.94zm-11 1L8.5 8.5l.94-2.06 2.06-.94-2.06-.94L8.5 2.5l-.94 2.06-2.06.94zm10 10l.94 2.06.94-2.06 2.06-.94-2.06-.94-.94-2.06-.94 2.06-2.06.94z\"/><path d=\"M17.41 7.96l-1.37-1.37c-.4-.4-.92-.59-1.43-.59-.52 0-1.04.2-1.43.59L10.3 9.45l-7.72 7.72c-.78.78-.78 2.05 0 2.83L4 21.41c.39.39.9.59 1.41.59.51 0 1.02-.2 1.41-.59l7.78-7.78 2.81-2.81c.8-.78.8-2.07 0-2.86zM5.41 20L4 18.59l7.72-7.72 1.47 1.35L5.41 20z\"/>\n",
              "  </svg>\n",
              "      </button>\n",
              "      \n",
              "  <style>\n",
              "    .colab-df-container {\n",
              "      display:flex;\n",
              "      flex-wrap:wrap;\n",
              "      gap: 12px;\n",
              "    }\n",
              "\n",
              "    .colab-df-convert {\n",
              "      background-color: #E8F0FE;\n",
              "      border: none;\n",
              "      border-radius: 50%;\n",
              "      cursor: pointer;\n",
              "      display: none;\n",
              "      fill: #1967D2;\n",
              "      height: 32px;\n",
              "      padding: 0 0 0 0;\n",
              "      width: 32px;\n",
              "    }\n",
              "\n",
              "    .colab-df-convert:hover {\n",
              "      background-color: #E2EBFA;\n",
              "      box-shadow: 0px 1px 2px rgba(60, 64, 67, 0.3), 0px 1px 3px 1px rgba(60, 64, 67, 0.15);\n",
              "      fill: #174EA6;\n",
              "    }\n",
              "\n",
              "    [theme=dark] .colab-df-convert {\n",
              "      background-color: #3B4455;\n",
              "      fill: #D2E3FC;\n",
              "    }\n",
              "\n",
              "    [theme=dark] .colab-df-convert:hover {\n",
              "      background-color: #434B5C;\n",
              "      box-shadow: 0px 1px 3px 1px rgba(0, 0, 0, 0.15);\n",
              "      filter: drop-shadow(0px 1px 2px rgba(0, 0, 0, 0.3));\n",
              "      fill: #FFFFFF;\n",
              "    }\n",
              "  </style>\n",
              "\n",
              "      <script>\n",
              "        const buttonEl =\n",
              "          document.querySelector('#df-d438e8f7-e1db-4583-9231-02bacaf5893a button.colab-df-convert');\n",
              "        buttonEl.style.display =\n",
              "          google.colab.kernel.accessAllowed ? 'block' : 'none';\n",
              "\n",
              "        async function convertToInteractive(key) {\n",
              "          const element = document.querySelector('#df-d438e8f7-e1db-4583-9231-02bacaf5893a');\n",
              "          const dataTable =\n",
              "            await google.colab.kernel.invokeFunction('convertToInteractive',\n",
              "                                                     [key], {});\n",
              "          if (!dataTable) return;\n",
              "\n",
              "          const docLinkHtml = 'Like what you see? Visit the ' +\n",
              "            '<a target=\"_blank\" href=https://colab.research.google.com/notebooks/data_table.ipynb>data table notebook</a>'\n",
              "            + ' to learn more about interactive tables.';\n",
              "          element.innerHTML = '';\n",
              "          dataTable['output_type'] = 'display_data';\n",
              "          await google.colab.output.renderOutput(dataTable, element);\n",
              "          const docLink = document.createElement('div');\n",
              "          docLink.innerHTML = docLinkHtml;\n",
              "          element.appendChild(docLink);\n",
              "        }\n",
              "      </script>\n",
              "    </div>\n",
              "  </div>\n",
              "  "
            ]
          },
          "metadata": {},
          "execution_count": 75
        }
      ]
    },
    {
      "cell_type": "code",
      "source": [
        "def similar_restaurants(name):\n",
        "  restaurant_names=[]\n",
        "  cosine_similarity_restaurants=[]\n",
        "\n",
        "  for i in range(len(restaurant_recommendation_dataframe)):\n",
        "    \n",
        "    row_restaurant=restaurant_recommendation_dataframe[restaurant_recommendation_dataframe['name_y']==name].iloc[:,2:51].values.ravel()\n",
        "\n",
        "    other_row_values=restaurant_recommendation_dataframe.iloc[i,2:51].values.ravel()\n",
        "    \n",
        "\n",
        "    cosine_per_row=np.dot(row_restaurant,other_row_values)\n",
        "\n",
        "    cosine_similarity_restaurants.append(cosine_per_row)\n",
        "\n",
        "    restaurant_names.append(restaurant_recommendation_dataframe.iloc[i,1])\n",
        "\n",
        "  restaurant_similarity = pd.DataFrame({\"similar_rest\" : restaurant_names, \"cosine\" : cosine_similarity_restaurants})\n",
        "\n",
        "  return restaurant_similarity"
      ],
      "metadata": {
        "id": "3Hc6NK7yk01W"
      },
      "execution_count": null,
      "outputs": []
    },
    {
      "cell_type": "code",
      "source": [
        "result = similar_restaurants('Joes Diner')"
      ],
      "metadata": {
        "id": "suOEuxuRsbDx"
      },
      "execution_count": null,
      "outputs": []
    },
    {
      "cell_type": "code",
      "source": [
        "result.head()"
      ],
      "metadata": {
        "colab": {
          "base_uri": "https://localhost:8080/",
          "height": 206
        },
        "id": "IImhFbKvstuh",
        "outputId": "0ac990d3-9b06-420d-aa13-81687195be29"
      },
      "execution_count": null,
      "outputs": [
        {
          "output_type": "execute_result",
          "data": {
            "text/plain": [
              "                 similar_rest    cosine\n",
              "0          Padaro Beach Grill -0.071286\n",
              "1    Cantwell's Market & Deli -0.013016\n",
              "2                  Joes Diner  0.983979\n",
              "3  Philadelphia Museum of Art  0.209489\n",
              "4                Rosie's Café  0.046560"
            ],
            "text/html": [
              "\n",
              "  <div id=\"df-3868ab81-3fc1-4d5c-b71c-630baea21544\">\n",
              "    <div class=\"colab-df-container\">\n",
              "      <div>\n",
              "<style scoped>\n",
              "    .dataframe tbody tr th:only-of-type {\n",
              "        vertical-align: middle;\n",
              "    }\n",
              "\n",
              "    .dataframe tbody tr th {\n",
              "        vertical-align: top;\n",
              "    }\n",
              "\n",
              "    .dataframe thead th {\n",
              "        text-align: right;\n",
              "    }\n",
              "</style>\n",
              "<table border=\"1\" class=\"dataframe\">\n",
              "  <thead>\n",
              "    <tr style=\"text-align: right;\">\n",
              "      <th></th>\n",
              "      <th>similar_rest</th>\n",
              "      <th>cosine</th>\n",
              "    </tr>\n",
              "  </thead>\n",
              "  <tbody>\n",
              "    <tr>\n",
              "      <th>0</th>\n",
              "      <td>Padaro Beach Grill</td>\n",
              "      <td>-0.071286</td>\n",
              "    </tr>\n",
              "    <tr>\n",
              "      <th>1</th>\n",
              "      <td>Cantwell's Market &amp; Deli</td>\n",
              "      <td>-0.013016</td>\n",
              "    </tr>\n",
              "    <tr>\n",
              "      <th>2</th>\n",
              "      <td>Joes Diner</td>\n",
              "      <td>0.983979</td>\n",
              "    </tr>\n",
              "    <tr>\n",
              "      <th>3</th>\n",
              "      <td>Philadelphia Museum of Art</td>\n",
              "      <td>0.209489</td>\n",
              "    </tr>\n",
              "    <tr>\n",
              "      <th>4</th>\n",
              "      <td>Rosie's Café</td>\n",
              "      <td>0.046560</td>\n",
              "    </tr>\n",
              "  </tbody>\n",
              "</table>\n",
              "</div>\n",
              "      <button class=\"colab-df-convert\" onclick=\"convertToInteractive('df-3868ab81-3fc1-4d5c-b71c-630baea21544')\"\n",
              "              title=\"Convert this dataframe to an interactive table.\"\n",
              "              style=\"display:none;\">\n",
              "        \n",
              "  <svg xmlns=\"http://www.w3.org/2000/svg\" height=\"24px\"viewBox=\"0 0 24 24\"\n",
              "       width=\"24px\">\n",
              "    <path d=\"M0 0h24v24H0V0z\" fill=\"none\"/>\n",
              "    <path d=\"M18.56 5.44l.94 2.06.94-2.06 2.06-.94-2.06-.94-.94-2.06-.94 2.06-2.06.94zm-11 1L8.5 8.5l.94-2.06 2.06-.94-2.06-.94L8.5 2.5l-.94 2.06-2.06.94zm10 10l.94 2.06.94-2.06 2.06-.94-2.06-.94-.94-2.06-.94 2.06-2.06.94z\"/><path d=\"M17.41 7.96l-1.37-1.37c-.4-.4-.92-.59-1.43-.59-.52 0-1.04.2-1.43.59L10.3 9.45l-7.72 7.72c-.78.78-.78 2.05 0 2.83L4 21.41c.39.39.9.59 1.41.59.51 0 1.02-.2 1.41-.59l7.78-7.78 2.81-2.81c.8-.78.8-2.07 0-2.86zM5.41 20L4 18.59l7.72-7.72 1.47 1.35L5.41 20z\"/>\n",
              "  </svg>\n",
              "      </button>\n",
              "      \n",
              "  <style>\n",
              "    .colab-df-container {\n",
              "      display:flex;\n",
              "      flex-wrap:wrap;\n",
              "      gap: 12px;\n",
              "    }\n",
              "\n",
              "    .colab-df-convert {\n",
              "      background-color: #E8F0FE;\n",
              "      border: none;\n",
              "      border-radius: 50%;\n",
              "      cursor: pointer;\n",
              "      display: none;\n",
              "      fill: #1967D2;\n",
              "      height: 32px;\n",
              "      padding: 0 0 0 0;\n",
              "      width: 32px;\n",
              "    }\n",
              "\n",
              "    .colab-df-convert:hover {\n",
              "      background-color: #E2EBFA;\n",
              "      box-shadow: 0px 1px 2px rgba(60, 64, 67, 0.3), 0px 1px 3px 1px rgba(60, 64, 67, 0.15);\n",
              "      fill: #174EA6;\n",
              "    }\n",
              "\n",
              "    [theme=dark] .colab-df-convert {\n",
              "      background-color: #3B4455;\n",
              "      fill: #D2E3FC;\n",
              "    }\n",
              "\n",
              "    [theme=dark] .colab-df-convert:hover {\n",
              "      background-color: #434B5C;\n",
              "      box-shadow: 0px 1px 3px 1px rgba(0, 0, 0, 0.15);\n",
              "      filter: drop-shadow(0px 1px 2px rgba(0, 0, 0, 0.3));\n",
              "      fill: #FFFFFF;\n",
              "    }\n",
              "  </style>\n",
              "\n",
              "      <script>\n",
              "        const buttonEl =\n",
              "          document.querySelector('#df-3868ab81-3fc1-4d5c-b71c-630baea21544 button.colab-df-convert');\n",
              "        buttonEl.style.display =\n",
              "          google.colab.kernel.accessAllowed ? 'block' : 'none';\n",
              "\n",
              "        async function convertToInteractive(key) {\n",
              "          const element = document.querySelector('#df-3868ab81-3fc1-4d5c-b71c-630baea21544');\n",
              "          const dataTable =\n",
              "            await google.colab.kernel.invokeFunction('convertToInteractive',\n",
              "                                                     [key], {});\n",
              "          if (!dataTable) return;\n",
              "\n",
              "          const docLinkHtml = 'Like what you see? Visit the ' +\n",
              "            '<a target=\"_blank\" href=https://colab.research.google.com/notebooks/data_table.ipynb>data table notebook</a>'\n",
              "            + ' to learn more about interactive tables.';\n",
              "          element.innerHTML = '';\n",
              "          dataTable['output_type'] = 'display_data';\n",
              "          await google.colab.output.renderOutput(dataTable, element);\n",
              "          const docLink = document.createElement('div');\n",
              "          docLink.innerHTML = docLinkHtml;\n",
              "          element.appendChild(docLink);\n",
              "        }\n",
              "      </script>\n",
              "    </div>\n",
              "  </div>\n",
              "  "
            ]
          },
          "metadata": {},
          "execution_count": 116
        }
      ]
    },
    {
      "cell_type": "code",
      "source": [
        "result.sort_values('cosine', ascending=False).head(10)"
      ],
      "metadata": {
        "colab": {
          "base_uri": "https://localhost:8080/",
          "height": 363
        },
        "id": "n4_W-s_dxDXL",
        "outputId": "e54c1301-8cc3-4402-8e30-9e0198c4fbaa"
      },
      "execution_count": null,
      "outputs": [
        {
          "output_type": "execute_result",
          "data": {
            "text/plain": [
              "                       similar_rest    cosine\n",
              "2                        Joes Diner  0.983979\n",
              "39600                     Chinatown  0.602922\n",
              "25329  Nudy's Cafe - Eagleview Blvd  0.564909\n",
              "42997                       Denny's  0.539956\n",
              "43202           Pookie's Restaurant  0.493337\n",
              "31297                   Hugo's Deli  0.485140\n",
              "18304       No 1 Chinese Restaurant  0.479488\n",
              "13958                 Trooper Diner  0.469073\n",
              "38853               Better Days BBQ  0.462743\n",
              "48513                       Dunkin'  0.456616"
            ],
            "text/html": [
              "\n",
              "  <div id=\"df-5fe3fc8e-a08f-4529-a728-fa5ff9dc6285\">\n",
              "    <div class=\"colab-df-container\">\n",
              "      <div>\n",
              "<style scoped>\n",
              "    .dataframe tbody tr th:only-of-type {\n",
              "        vertical-align: middle;\n",
              "    }\n",
              "\n",
              "    .dataframe tbody tr th {\n",
              "        vertical-align: top;\n",
              "    }\n",
              "\n",
              "    .dataframe thead th {\n",
              "        text-align: right;\n",
              "    }\n",
              "</style>\n",
              "<table border=\"1\" class=\"dataframe\">\n",
              "  <thead>\n",
              "    <tr style=\"text-align: right;\">\n",
              "      <th></th>\n",
              "      <th>similar_rest</th>\n",
              "      <th>cosine</th>\n",
              "    </tr>\n",
              "  </thead>\n",
              "  <tbody>\n",
              "    <tr>\n",
              "      <th>2</th>\n",
              "      <td>Joes Diner</td>\n",
              "      <td>0.983979</td>\n",
              "    </tr>\n",
              "    <tr>\n",
              "      <th>39600</th>\n",
              "      <td>Chinatown</td>\n",
              "      <td>0.602922</td>\n",
              "    </tr>\n",
              "    <tr>\n",
              "      <th>25329</th>\n",
              "      <td>Nudy's Cafe - Eagleview Blvd</td>\n",
              "      <td>0.564909</td>\n",
              "    </tr>\n",
              "    <tr>\n",
              "      <th>42997</th>\n",
              "      <td>Denny's</td>\n",
              "      <td>0.539956</td>\n",
              "    </tr>\n",
              "    <tr>\n",
              "      <th>43202</th>\n",
              "      <td>Pookie's Restaurant</td>\n",
              "      <td>0.493337</td>\n",
              "    </tr>\n",
              "    <tr>\n",
              "      <th>31297</th>\n",
              "      <td>Hugo's Deli</td>\n",
              "      <td>0.485140</td>\n",
              "    </tr>\n",
              "    <tr>\n",
              "      <th>18304</th>\n",
              "      <td>No 1 Chinese Restaurant</td>\n",
              "      <td>0.479488</td>\n",
              "    </tr>\n",
              "    <tr>\n",
              "      <th>13958</th>\n",
              "      <td>Trooper Diner</td>\n",
              "      <td>0.469073</td>\n",
              "    </tr>\n",
              "    <tr>\n",
              "      <th>38853</th>\n",
              "      <td>Better Days BBQ</td>\n",
              "      <td>0.462743</td>\n",
              "    </tr>\n",
              "    <tr>\n",
              "      <th>48513</th>\n",
              "      <td>Dunkin'</td>\n",
              "      <td>0.456616</td>\n",
              "    </tr>\n",
              "  </tbody>\n",
              "</table>\n",
              "</div>\n",
              "      <button class=\"colab-df-convert\" onclick=\"convertToInteractive('df-5fe3fc8e-a08f-4529-a728-fa5ff9dc6285')\"\n",
              "              title=\"Convert this dataframe to an interactive table.\"\n",
              "              style=\"display:none;\">\n",
              "        \n",
              "  <svg xmlns=\"http://www.w3.org/2000/svg\" height=\"24px\"viewBox=\"0 0 24 24\"\n",
              "       width=\"24px\">\n",
              "    <path d=\"M0 0h24v24H0V0z\" fill=\"none\"/>\n",
              "    <path d=\"M18.56 5.44l.94 2.06.94-2.06 2.06-.94-2.06-.94-.94-2.06-.94 2.06-2.06.94zm-11 1L8.5 8.5l.94-2.06 2.06-.94-2.06-.94L8.5 2.5l-.94 2.06-2.06.94zm10 10l.94 2.06.94-2.06 2.06-.94-2.06-.94-.94-2.06-.94 2.06-2.06.94z\"/><path d=\"M17.41 7.96l-1.37-1.37c-.4-.4-.92-.59-1.43-.59-.52 0-1.04.2-1.43.59L10.3 9.45l-7.72 7.72c-.78.78-.78 2.05 0 2.83L4 21.41c.39.39.9.59 1.41.59.51 0 1.02-.2 1.41-.59l7.78-7.78 2.81-2.81c.8-.78.8-2.07 0-2.86zM5.41 20L4 18.59l7.72-7.72 1.47 1.35L5.41 20z\"/>\n",
              "  </svg>\n",
              "      </button>\n",
              "      \n",
              "  <style>\n",
              "    .colab-df-container {\n",
              "      display:flex;\n",
              "      flex-wrap:wrap;\n",
              "      gap: 12px;\n",
              "    }\n",
              "\n",
              "    .colab-df-convert {\n",
              "      background-color: #E8F0FE;\n",
              "      border: none;\n",
              "      border-radius: 50%;\n",
              "      cursor: pointer;\n",
              "      display: none;\n",
              "      fill: #1967D2;\n",
              "      height: 32px;\n",
              "      padding: 0 0 0 0;\n",
              "      width: 32px;\n",
              "    }\n",
              "\n",
              "    .colab-df-convert:hover {\n",
              "      background-color: #E2EBFA;\n",
              "      box-shadow: 0px 1px 2px rgba(60, 64, 67, 0.3), 0px 1px 3px 1px rgba(60, 64, 67, 0.15);\n",
              "      fill: #174EA6;\n",
              "    }\n",
              "\n",
              "    [theme=dark] .colab-df-convert {\n",
              "      background-color: #3B4455;\n",
              "      fill: #D2E3FC;\n",
              "    }\n",
              "\n",
              "    [theme=dark] .colab-df-convert:hover {\n",
              "      background-color: #434B5C;\n",
              "      box-shadow: 0px 1px 3px 1px rgba(0, 0, 0, 0.15);\n",
              "      filter: drop-shadow(0px 1px 2px rgba(0, 0, 0, 0.3));\n",
              "      fill: #FFFFFF;\n",
              "    }\n",
              "  </style>\n",
              "\n",
              "      <script>\n",
              "        const buttonEl =\n",
              "          document.querySelector('#df-5fe3fc8e-a08f-4529-a728-fa5ff9dc6285 button.colab-df-convert');\n",
              "        buttonEl.style.display =\n",
              "          google.colab.kernel.accessAllowed ? 'block' : 'none';\n",
              "\n",
              "        async function convertToInteractive(key) {\n",
              "          const element = document.querySelector('#df-5fe3fc8e-a08f-4529-a728-fa5ff9dc6285');\n",
              "          const dataTable =\n",
              "            await google.colab.kernel.invokeFunction('convertToInteractive',\n",
              "                                                     [key], {});\n",
              "          if (!dataTable) return;\n",
              "\n",
              "          const docLinkHtml = 'Like what you see? Visit the ' +\n",
              "            '<a target=\"_blank\" href=https://colab.research.google.com/notebooks/data_table.ipynb>data table notebook</a>'\n",
              "            + ' to learn more about interactive tables.';\n",
              "          element.innerHTML = '';\n",
              "          dataTable['output_type'] = 'display_data';\n",
              "          await google.colab.output.renderOutput(dataTable, element);\n",
              "          const docLink = document.createElement('div');\n",
              "          docLink.innerHTML = docLinkHtml;\n",
              "          element.appendChild(docLink);\n",
              "        }\n",
              "      </script>\n",
              "    </div>\n",
              "  </div>\n",
              "  "
            ]
          },
          "metadata": {},
          "execution_count": 117
        }
      ]
    }
  ]
}